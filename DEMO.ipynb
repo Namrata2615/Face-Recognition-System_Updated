{
 "cells": [
  {
   "cell_type": "code",
   "execution_count": 2,
   "id": "2b8aa3cc",
   "metadata": {},
   "outputs": [],
   "source": [
    "# Standard Dependencies\n",
    "import os\n",
    "import cv2\n",
    "import random\n",
    "import numpy as np\n",
    "from matplotlib import pyplot as plt\n",
    "import uuid\n",
    "\n",
    "# Tensorflow Dependencies\n",
    "from tensorflow.keras.models import Model\n",
    "from tensorflow.keras.layers import Layer, Conv2D, Dense, MaxPooling2D, InSput, Flatten\n",
    "import tensorflow as tf"
   ]
  },
  {
   "cell_type": "code",
   "execution_count": 3,
   "id": "83e144d8",
   "metadata": {},
   "outputs": [],
   "source": [
    "\n",
    "# Avoiding OOM Errors for GPU\n",
    "gpus = tf.config.experimental.list_physical_devices(\"GPU\")\n",
    "for gpu in gpus:\n",
    "    tf.config.experimental.set_memory_growth(gpu, True)"
   ]
  },
  {
   "cell_type": "code",
   "execution_count": 4,
   "id": "11997b78",
   "metadata": {},
   "outputs": [],
   "source": [
    "# Folder Structure\n",
    "Pos_Path = os.path.join(\"data\", \"positive\")\n",
    "Neg_Path = os.path.join(\"data\", \"negative\")\n",
    "Anc_Path = os.path.join(\"data\", \"anchor\")"
   ]
  },
  {
   "cell_type": "code",
   "execution_count": 5,
   "id": "afd1aec1",
   "metadata": {},
   "outputs": [],
   "source": [
    "os.makedirs(Pos_Path)\n",
    "os.makedirs(Neg_Path)\n",
    "os.makedirs(Anc_Path)"
   ]
  },
  {
   "cell_type": "code",
   "execution_count": 6,
   "id": "f9eba828",
   "metadata": {},
   "outputs": [],
   "source": [
    "!tar -xf lfw.tgz"
   ]
  },
  {
   "cell_type": "code",
   "execution_count": 7,
   "id": "aa88fe0f",
   "metadata": {},
   "outputs": [],
   "source": [
    "# Movw LFW data to data/neg\n",
    "for directory in os.listdir(\"lfw\"):\n",
    "    for file in os.listdir(os.path.join(\"lfw\", directory)):\n",
    "        EX_PATH = os.path.join(\"lfw\", directory, file)\n",
    "        NEW_PATH = os.path.join(Neg_Path, file)\n",
    "        os.replace(EX_PATH, NEW_PATH)"
   ]
  },
  {
   "cell_type": "code",
   "execution_count": 8,
   "id": "6c7115a9",
   "metadata": {},
   "outputs": [],
   "source": [
    "# Connect Webcam\n",
    "cap = cv2.VideoCapture(0)\n",
    "while cap.isOpened():\n",
    "    ret, frame = cap.read()\n",
    "    \n",
    "    # Resize Frame\n",
    "    frame = frame[120:120+250, 250: 250+250, :]\n",
    "    \n",
    "    # Collect Anchors\n",
    "    if cv2.waitKey(1) & 0XFF == ord(\"a\"):\n",
    "        # Creating Unique filepath\n",
    "        imgname = os.path.join(Anc_Path, \"{}.jpg\".format(uuid.uuid1()))\n",
    "        cv2.imwrite(imgname, frame)\n",
    "    \n",
    "    # Collect Positives\n",
    "    if cv2.waitKey(1) & 0XFF == ord(\"p\"):\n",
    "        # Creating Unique filepath\n",
    "        imgname = os.path.join(Pos_Path, \"{}.jpg\".format(uuid.uuid1()))\n",
    "        cv2.imwrite(imgname, frame)\n",
    "\n",
    "    # Show image back to screen\n",
    "    cv2.imshow(\"Image Collection\", frame)\n",
    "    \n",
    "    if cv2.waitKey(1) & 0XFF == ord(\"q\"):\n",
    "        break\n",
    "# Release webcam        \n",
    "cap.release()\n",
    "# Close image\n",
    "cv2.destroyAllWindows()"
   ]
  },
  {
   "cell_type": "code",
   "execution_count": 9,
   "id": "c8f7a8cf",
   "metadata": {},
   "outputs": [],
   "source": [
    "anchor = tf.data.Dataset.list_files(Anc_Path+\"\\*.jpg\").take(300)\n",
    "positive = tf.data.Dataset.list_files(Pos_Path+\"\\*.jpg\").take(300)\n",
    "negative = tf.data.Dataset.list_files(Neg_Path+\"\\*.jpg\").take(300)"
   ]
  },
  {
   "cell_type": "code",
   "execution_count": 10,
   "id": "b8e1c593",
   "metadata": {},
   "outputs": [],
   "source": [
    "# Preprocessing\n",
    "def preprocess(file_path):\n",
    "    byte_img = tf.io.read_file(file_path)\n",
    "    img = tf.io.decode_jpeg(byte_img)\n",
    "    img = tf.image.resize(img, (100, 100))\n",
    "    img = img /255.0\n",
    "    return img    "
   ]
  },
  {
   "cell_type": "code",
   "execution_count": 11,
   "id": "1ad0fa95",
   "metadata": {},
   "outputs": [],
   "source": [
    "# Creating Labelled Dataset\n",
    "positives = tf.data.Dataset.zip((anchor, positive, tf.data.Dataset.from_tensor_slices(tf.ones(len(anchor)))))\n",
    "negatives = tf.data.Dataset.zip((anchor, negative, tf.data.Dataset.from_tensor_slices(tf.zeros(len(anchor)))))\n",
    "data = positives.concatenate(negatives)"
   ]
  },
  {
   "cell_type": "code",
   "execution_count": 12,
   "id": "8d55fe51",
   "metadata": {},
   "outputs": [],
   "source": [
    "samples = data.as_numpy_iterator()"
   ]
  },
  {
   "cell_type": "code",
   "execution_count": 13,
   "id": "cde82a80",
   "metadata": {},
   "outputs": [],
   "source": [
    "def preprocess_twins(input_img, validation_img, label):\n",
    "    return(preprocess(input_img), preprocess(validation_img), label)"
   ]
  },
  {
   "cell_type": "code",
   "execution_count": 14,
   "id": "6ea7bf35",
   "metadata": {},
   "outputs": [],
   "source": [
    "# Dataloader Pipeline\n",
    "data = data.map(preprocess_twins)\n",
    "data = data.cache()\n",
    "data = data.shuffle(buffer_size=1024)\n",
    "\n",
    "# Training Partition \n",
    "train_data = data.take(round(len(data)*.7))\n",
    "train_data = train_data.batch(16)\n",
    "train_data = train_data.prefetch(8)"
   ]
  },
  {
   "cell_type": "code",
   "execution_count": 15,
   "id": "8c133f03",
   "metadata": {},
   "outputs": [],
   "source": [
    "# Testing Partition\n",
    "test_data = data.skip(round(len(data)*.7))\n",
    "test_data = test_data.take(round(len(data)*.3))\n",
    "test_data = test_data.batch(16)\n",
    "test_data = test_data.prefetch(8)"
   ]
  },
  {
   "cell_type": "code",
   "execution_count": 16,
   "id": "cf465735",
   "metadata": {},
   "outputs": [],
   "source": [
    "# Embedding Layer\n",
    "def make_embedding():\n",
    "    inp = Input(shape=(100, 100, 3), name=\"input_image\")\n",
    "    \n",
    "    # First Block\n",
    "    c1 = Conv2D(64, (10, 10), activation=\"relu\")(inp)\n",
    "    m1 = MaxPooling2D(64, (2, 2), padding=\"same\")(c1)\n",
    "    \n",
    "    #Second Block\n",
    "    c2 = Conv2D(128, (7, 7), activation=\"relu\")(m1)\n",
    "    m2 = MaxPooling2D(64, (2, 2), padding=\"same\")(c2)\n",
    "    \n",
    "    #Third Block\n",
    "    c3 = Conv2D(128, (4, 4), activation=\"relu\")(m2)\n",
    "    m3 = MaxPooling2D(64, (2, 2), padding=\"same\")(c2)\n",
    "    \n",
    "    # Final Embedding Layer\n",
    "    c4 = Conv2D(256, (4, 4), activation=\"relu\")(m3)\n",
    "    f1 = Flatten()(c4)\n",
    "    d1 = Dense(4096, activation=\"sigmoid\")(f1)\n",
    "    \n",
    "    return Model(inputs=[inp], outputs=[d1], name=\"embedding\")"
   ]
  },
  {
   "cell_type": "code",
   "execution_count": 17,
   "id": "b4f4b20d",
   "metadata": {},
   "outputs": [],
   "source": [
    "embedding = make_embedding()"
   ]
  },
  {
   "cell_type": "code",
   "execution_count": 18,
   "id": "50d06ac9",
   "metadata": {},
   "outputs": [
    {
     "name": "stdout",
     "output_type": "stream",
     "text": [
      "Model: \"embedding\"\n",
      "_________________________________________________________________\n",
      "Layer (type)                 Output Shape              Param #   \n",
      "=================================================================\n",
      "input_image (InputLayer)     [(None, 100, 100, 3)]     0         \n",
      "_________________________________________________________________\n",
      "conv2d (Conv2D)              (None, 91, 91, 64)        19264     \n",
      "_________________________________________________________________\n",
      "max_pooling2d (MaxPooling2D) (None, 46, 46, 64)        0         \n",
      "_________________________________________________________________\n",
      "conv2d_1 (Conv2D)            (None, 40, 40, 128)       401536    \n",
      "_________________________________________________________________\n",
      "max_pooling2d_2 (MaxPooling2 (None, 20, 20, 128)       0         \n",
      "_________________________________________________________________\n",
      "conv2d_3 (Conv2D)            (None, 17, 17, 256)       524544    \n",
      "_________________________________________________________________\n",
      "flatten (Flatten)            (None, 73984)             0         \n",
      "_________________________________________________________________\n",
      "dense (Dense)                (None, 4096)              303042560 \n",
      "=================================================================\n",
      "Total params: 303,987,904\n",
      "Trainable params: 303,987,904\n",
      "Non-trainable params: 0\n",
      "_________________________________________________________________\n"
     ]
    }
   ],
   "source": [
    "embedding.summary()"
   ]
  },
  {
   "cell_type": "code",
   "execution_count": 19,
   "id": "1e23a7c1",
   "metadata": {},
   "outputs": [],
   "source": [
    "# Siamese L1 Distance Class\n",
    "class L1Dist(Layer):\n",
    "    def __init__(self, **kwargs):\n",
    "        super().__init__()\n",
    "    \n",
    "    # Similarity Clarification\n",
    "    def call(self, input_embedding, validation_embedding):\n",
    "        return tf.math.abs(input_embedding - validation_embedding)"
   ]
  },
  {
   "cell_type": "code",
   "execution_count": 20,
   "id": "d567a4fa",
   "metadata": {},
   "outputs": [],
   "source": [
    "l1 = L1Dist()"
   ]
  },
  {
   "cell_type": "code",
   "execution_count": 21,
   "id": "a422437a",
   "metadata": {},
   "outputs": [],
   "source": [
    "# Siamese Model\n",
    "def make_siamese_model():\n",
    "    \n",
    "    # Anchor Image\n",
    "    input_image = Input(name=\"input_img\", shape=(100, 100, 3))\n",
    "    \n",
    "    # Validation Image\n",
    "    validation_image = Input(name=\"validation_img\", shape=(100, 100, 3))\n",
    "    \n",
    "    # Siamese distance components\n",
    "    siamese_layer = L1Dist()\n",
    "    siamese_layer._name = \"distance\"\n",
    "    distances = siamese_layer(embedding(input_image), embedding(validation_image))\n",
    "    \n",
    "    # Classification Layer\n",
    "    classifier = Dense(1, activation=\"sigmoid\")(distances)\n",
    "    \n",
    "    return Model(inputs=[input_image, validation_image], outputs=classifier, name=\"SiameseNetwork\")"
   ]
  },
  {
   "cell_type": "code",
   "execution_count": 22,
   "id": "59ab96af",
   "metadata": {},
   "outputs": [],
   "source": [
    "siamese_model = make_siamese_model()"
   ]
  },
  {
   "cell_type": "code",
   "execution_count": 23,
   "id": "d5e16bd0",
   "metadata": {},
   "outputs": [
    {
     "name": "stdout",
     "output_type": "stream",
     "text": [
      "Model: \"SiameseNetwork\"\n",
      "__________________________________________________________________________________________________\n",
      "Layer (type)                    Output Shape         Param #     Connected to                     \n",
      "==================================================================================================\n",
      "input_img (InputLayer)          [(None, 100, 100, 3) 0                                            \n",
      "__________________________________________________________________________________________________\n",
      "validation_img (InputLayer)     [(None, 100, 100, 3) 0                                            \n",
      "__________________________________________________________________________________________________\n",
      "embedding (Functional)          (None, 4096)         303987904   input_img[0][0]                  \n",
      "                                                                 validation_img[0][0]             \n",
      "__________________________________________________________________________________________________\n",
      "distance (L1Dist)               (None, 4096)         0           embedding[0][0]                  \n",
      "                                                                 embedding[1][0]                  \n",
      "__________________________________________________________________________________________________\n",
      "dense_1 (Dense)                 (None, 1)            4097        distance[0][0]                   \n",
      "==================================================================================================\n",
      "Total params: 303,992,001\n",
      "Trainable params: 303,992,001\n",
      "Non-trainable params: 0\n",
      "__________________________________________________________________________________________________\n"
     ]
    }
   ],
   "source": [
    "\n",
    "siamese_model.summary()"
   ]
  },
  {
   "cell_type": "code",
   "execution_count": 24,
   "id": "b0056222",
   "metadata": {},
   "outputs": [],
   "source": [
    "binary_cross_loss = tf.losses.BinaryCrossentropy()"
   ]
  },
  {
   "cell_type": "code",
   "execution_count": 25,
   "id": "5895a3be",
   "metadata": {},
   "outputs": [],
   "source": [
    "opt = tf.keras.optimizers.Adam(1e-4)"
   ]
  },
  {
   "cell_type": "code",
   "execution_count": 26,
   "id": "e16a9f3b",
   "metadata": {},
   "outputs": [],
   "source": [
    "# Checkpoints\n",
    "checkpoint_dir = './training_checkpoints'\n",
    "checkpoint_prefix = os.path.join(checkpoint_dir, 'ckpt')\n",
    "checkpoint = tf.train.Checkpoint(opt=opt, siamese_model=siamese_model)"
   ]
  },
  {
   "cell_type": "code",
   "execution_count": 27,
   "id": "b3d2082a",
   "metadata": {},
   "outputs": [],
   "source": [
    "@tf.function\n",
    "def train_step(batch):\n",
    "    \n",
    "    # Record all of our operations \n",
    "    with tf.GradientTape() as tape:     \n",
    "        # Get anchor and positive/negative image\n",
    "        X = batch[:2]\n",
    "        # Get label\n",
    "        y = batch[2]\n",
    "        \n",
    "        # Forward pass\n",
    "        yhat = siamese_model(X, training=True)\n",
    "        # Calculate loss\n",
    "        loss = binary_cross_loss(y, yhat)\n",
    "    print(loss)\n",
    "        \n",
    "    # Calculate gradients\n",
    "    grad = tape.gradient(loss, siamese_model.trainable_variables)\n",
    "    \n",
    "    # Calculate updated weights and apply to siamese model\n",
    "    opt.apply_gradients(zip(grad, siamese_model.trainable_variables))\n",
    "        \n",
    "    # Return loss\n",
    "    return loss"
   ]
  },
  {
   "cell_type": "code",
   "execution_count": 28,
   "id": "1d52456c",
   "metadata": {},
   "outputs": [],
   "source": [
    "# Import metric calculations\n",
    "from tensorflow.keras.metrics import Precision, Recall"
   ]
  },
  {
   "cell_type": "code",
   "execution_count": 29,
   "id": "c167eb46",
   "metadata": {},
   "outputs": [],
   "source": [
    "def train(data, EPOCHS):\n",
    "    # Loop through epochs\n",
    "    for epoch in range(1, EPOCHS+1):\n",
    "        print('\\n Epoch {}/{}'.format(epoch, EPOCHS))\n",
    "        progbar = tf.keras.utils.Progbar(len(data))\n",
    "        \n",
    "        # Creating a metric object \n",
    "        r = Recall()\n",
    "        p = Precision()\n",
    "        \n",
    "        # Loop through each batch\n",
    "        for idx, batch in enumerate(data):\n",
    "            # Run train step here\n",
    "            loss = train_step(batch)\n",
    "            yhat = siamese_model.predict(batch[:2])\n",
    "            r.update_state(batch[2], yhat)\n",
    "            p.update_state(batch[2], yhat) \n",
    "            progbar.update(idx+1)\n",
    "        print(loss.numpy(), r.result().numpy(), p.result().numpy())\n",
    "        \n",
    "        # Save checkpoints\n",
    "        if epoch % 10 == 0: \n",
    "            checkpoint.save(file_prefix=checkpoint_prefix)"
   ]
  },
  {
   "cell_type": "code",
   "execution_count": 30,
   "id": "7bc07fca",
   "metadata": {},
   "outputs": [],
   "source": [
    "EPOCHS = 50"
   ]
  },
  {
   "cell_type": "code",
   "execution_count": 31,
   "id": "41ae5bb9",
   "metadata": {},
   "outputs": [
    {
     "name": "stdout",
     "output_type": "stream",
     "text": [
      "\n",
      " Epoch 1/50\n",
      "Tensor(\"binary_crossentropy/weighted_loss/value:0\", shape=(), dtype=float32)\n",
      "Tensor(\"binary_crossentropy/weighted_loss/value:0\", shape=(), dtype=float32)\n",
      "1/2 [==============>...............] - ETA: 27sTensor(\"binary_crossentropy/weighted_loss/value:0\", shape=(), dtype=float32)\n",
      "2/2 [==============================] - 31s 3s/step\n",
      "0.50886005 0.0 0.0\n",
      "\n",
      " Epoch 2/50\n",
      "2/2 [==============================] - 26s 2s/step\n",
      "1.0504903 0.0 0.0\n",
      "\n",
      " Epoch 3/50\n",
      "2/2 [==============================] - 25s 2s/step\n",
      "0.29203856 0.8 1.0\n",
      "\n",
      " Epoch 4/50\n",
      "2/2 [==============================] - 25s 3s/step\n",
      "0.13794409 0.8333333 1.0\n",
      "\n",
      " Epoch 5/50\n",
      "2/2 [==============================] - 26s 3s/step\n",
      "0.005071125 0.8333333 1.0\n",
      "\n",
      " Epoch 6/50\n",
      "2/2 [==============================] - 27s 2s/step\n",
      "0.03551115 1.0 1.0\n",
      "\n",
      " Epoch 7/50\n",
      "2/2 [==============================] - 25s 2s/step\n",
      "0.012230438 1.0 1.0\n",
      "\n",
      " Epoch 8/50\n",
      "2/2 [==============================] - 25s 3s/step\n",
      "0.08519327 1.0 1.0\n",
      "\n",
      " Epoch 9/50\n",
      "2/2 [==============================] - 27s 3s/step\n",
      "0.010482463 1.0 1.0\n",
      "\n",
      " Epoch 10/50\n",
      "2/2 [==============================] - 26s 3s/step\n",
      "0.1796262 1.0 1.0\n",
      "\n",
      " Epoch 11/50\n",
      "2/2 [==============================] - 26s 3s/step\n",
      "0.07462736 1.0 1.0\n",
      "\n",
      " Epoch 12/50\n",
      "2/2 [==============================] - 26s 3s/step\n",
      "0.0073084217 1.0 1.0\n",
      "\n",
      " Epoch 13/50\n",
      "2/2 [==============================] - 26s 3s/step\n",
      "0.012013666 1.0 1.0\n",
      "\n",
      " Epoch 14/50\n",
      "2/2 [==============================] - 26s 3s/step\n",
      "0.034076586 1.0 1.0\n",
      "\n",
      " Epoch 15/50\n",
      "2/2 [==============================] - 25s 2s/step\n",
      "0.0039282604 1.0 1.0\n",
      "\n",
      " Epoch 16/50\n",
      "2/2 [==============================] - 27s 3s/step\n",
      "0.004974199 1.0 1.0\n",
      "\n",
      " Epoch 17/50\n",
      "2/2 [==============================] - 26s 3s/step\n",
      "0.0036939576 1.0 1.0\n",
      "\n",
      " Epoch 18/50\n",
      "2/2 [==============================] - 26s 3s/step\n",
      "0.009558558 1.0 1.0\n",
      "\n",
      " Epoch 19/50\n",
      "2/2 [==============================] - 26s 3s/step\n",
      "1.2338238e-05 1.0 1.0\n",
      "\n",
      " Epoch 20/50\n",
      "2/2 [==============================] - 27s 2s/step\n",
      "-0.0 1.0 1.0\n",
      "\n",
      " Epoch 21/50\n",
      "2/2 [==============================] - 26s 2s/step\n",
      "6.0381328e-05 1.0 1.0\n",
      "\n",
      " Epoch 22/50\n",
      "2/2 [==============================] - 26s 2s/step\n",
      "4.3512337e-05 1.0 1.0\n",
      "\n",
      " Epoch 23/50\n",
      "2/2 [==============================] - 26s 3s/step\n",
      "0.00021149965 1.0 1.0\n",
      "\n",
      " Epoch 24/50\n",
      "2/2 [==============================] - 25s 3s/step\n",
      "0.0017994132 1.0 1.0\n",
      "\n",
      " Epoch 25/50\n",
      "2/2 [==============================] - 25s 2s/step\n",
      "7.15256e-07 1.0 1.0\n",
      "\n",
      " Epoch 26/50\n",
      "2/2 [==============================] - 26s 2s/step\n",
      "3.9935194e-06 1.0 1.0\n",
      "\n",
      " Epoch 27/50\n",
      "2/2 [==============================] - 25s 3s/step\n",
      "0.00015808402 1.0 1.0\n",
      "\n",
      " Epoch 28/50\n",
      "2/2 [==============================] - 25s 2s/step\n",
      "-0.0 1.0 1.0\n",
      "\n",
      " Epoch 29/50\n",
      "2/2 [==============================] - 24s 2s/step\n",
      "2.9802368e-06 1.0 1.0\n",
      "\n",
      " Epoch 30/50\n",
      "2/2 [==============================] - 26s 3s/step\n",
      "-0.0 1.0 1.0\n",
      "\n",
      " Epoch 31/50\n",
      "2/2 [==============================] - 25s 3s/step\n",
      "6.556513e-07 1.0 1.0\n",
      "\n",
      " Epoch 32/50\n",
      "2/2 [==============================] - 25s 3s/step\n",
      "5.8412725e-06 1.0 1.0\n",
      "\n",
      " Epoch 33/50\n",
      "2/2 [==============================] - 25s 3s/step\n",
      "3.7550997e-06 1.0 1.0\n",
      "\n",
      " Epoch 34/50\n",
      "2/2 [==============================] - 25s 3s/step\n",
      "8.3446537e-07 1.0 1.0\n",
      "\n",
      " Epoch 35/50\n",
      "2/2 [==============================] - 26s 3s/step\n",
      "-0.0 1.0 1.0\n",
      "\n",
      " Epoch 36/50\n",
      "2/2 [==============================] - 26s 2s/step\n",
      "0.00016321083 1.0 1.0\n",
      "\n",
      " Epoch 37/50\n",
      "2/2 [==============================] - 26s 3s/step\n",
      "3.0994463e-06 1.0 1.0\n",
      "\n",
      " Epoch 38/50\n",
      "2/2 [==============================] - 27s 3s/step\n",
      "1.6689314e-06 1.0 1.0\n",
      "\n",
      " Epoch 39/50\n",
      "2/2 [==============================] - 27s 3s/step\n",
      "3.6954948e-06 1.0 1.0\n",
      "\n",
      " Epoch 40/50\n",
      "2/2 [==============================] - 26s 2s/step\n",
      "-0.0 1.0 1.0\n",
      "\n",
      " Epoch 41/50\n",
      "2/2 [==============================] - 27s 3s/step\n",
      "3.0398414e-06 1.0 1.0\n",
      "\n",
      " Epoch 42/50\n",
      "2/2 [==============================] - 27s 2s/step\n",
      "0.00048756562 1.0 1.0\n",
      "\n",
      " Epoch 43/50\n",
      "2/2 [==============================] - 26s 3s/step\n",
      "2.920632e-06 1.0 1.0\n",
      "\n",
      " Epoch 44/50\n",
      "2/2 [==============================] - 25s 2s/step\n",
      "3.0994463e-06 1.0 1.0\n",
      "\n",
      " Epoch 45/50\n",
      "2/2 [==============================] - 25s 3s/step\n",
      "2.920632e-06 1.0 1.0\n",
      "\n",
      " Epoch 46/50\n",
      "2/2 [==============================] - 26s 3s/step\n",
      "4.9592294e-05 1.0 1.0\n",
      "\n",
      " Epoch 47/50\n",
      "2/2 [==============================] - 25s 2s/step\n",
      "0.000254425 1.0 1.0\n",
      "\n",
      " Epoch 48/50\n",
      "2/2 [==============================] - 25s 2s/step\n",
      "1.6212594e-05 1.0 1.0\n",
      "\n",
      " Epoch 49/50\n",
      "2/2 [==============================] - 24s 3s/step\n",
      "1.0073236e-05 1.0 1.0\n",
      "\n",
      " Epoch 50/50\n",
      "2/2 [==============================] - 24s 2s/step\n",
      "1.5616539e-05 1.0 1.0\n"
     ]
    }
   ],
   "source": [
    "train(train_data, EPOCHS)"
   ]
  },
  {
   "cell_type": "code",
   "execution_count": 32,
   "id": "e53b5239",
   "metadata": {},
   "outputs": [],
   "source": [
    "from tensorflow.keras.metrics import Precision, Recall"
   ]
  },
  {
   "cell_type": "code",
   "execution_count": 33,
   "id": "d5a5dd09",
   "metadata": {},
   "outputs": [],
   "source": [
    "test_input, test_val, y_true = test_data.as_numpy_iterator().next()"
   ]
  },
  {
   "cell_type": "code",
   "execution_count": 34,
   "id": "e353ca27",
   "metadata": {},
   "outputs": [
    {
     "data": {
      "text/plain": [
       "[0, 0, 0, 0, 1, 1, 1]"
      ]
     },
     "execution_count": 34,
     "metadata": {},
     "output_type": "execute_result"
    }
   ],
   "source": [
    "y_hat = siamese_model.predict([test_input, test_val])\n",
    "# Post processing the results \n",
    "[1 if prediction > 0.5 else 0 for prediction in y_hat ]"
   ]
  },
  {
   "cell_type": "code",
   "execution_count": 35,
   "id": "4243e9a1",
   "metadata": {},
   "outputs": [
    {
     "data": {
      "text/plain": [
       "array([0., 0., 0., 0., 1., 1., 1.], dtype=float32)"
      ]
     },
     "execution_count": 35,
     "metadata": {},
     "output_type": "execute_result"
    }
   ],
   "source": [
    "y_true"
   ]
  },
  {
   "cell_type": "code",
   "execution_count": 36,
   "id": "10fe23bc",
   "metadata": {},
   "outputs": [
    {
     "data": {
      "text/plain": [
       "1.0"
      ]
     },
     "execution_count": 36,
     "metadata": {},
     "output_type": "execute_result"
    }
   ],
   "source": [
    "# Creating a metric object \n",
    "m = Recall()\n",
    "\n",
    "# Calculating the recall value \n",
    "m.update_state(y_true, y_hat)\n",
    "\n",
    "# Return Recall Result\n",
    "m.result().numpy()"
   ]
  },
  {
   "cell_type": "code",
   "execution_count": 37,
   "id": "7ed1ef95",
   "metadata": {},
   "outputs": [
    {
     "data": {
      "text/plain": [
       "1.0"
      ]
     },
     "execution_count": 37,
     "metadata": {},
     "output_type": "execute_result"
    }
   ],
   "source": [
    "# Creating a metric object \n",
    "m = Precision()\n",
    "\n",
    "# Calculating the recall value \n",
    "m.update_state(y_true, y_hat)\n",
    "\n",
    "# Return Recall Result\n",
    "m.result().numpy()"
   ]
  },
  {
   "cell_type": "code",
   "execution_count": 38,
   "id": "4a6530c7",
   "metadata": {},
   "outputs": [
    {
     "name": "stdout",
     "output_type": "stream",
     "text": [
      "1.0 1.0\n"
     ]
    }
   ],
   "source": [
    "r = Recall()\n",
    "p = Precision()\n",
    "\n",
    "for test_input, test_val, y_true in test_data.as_numpy_iterator():\n",
    "    yhat = siamese_model.predict([test_input, test_val])\n",
    "    r.update_state(y_true, yhat)\n",
    "    p.update_state(y_true,yhat) \n",
    "\n",
    "print(r.result().numpy(), p.result().numpy())"
   ]
  },
  {
   "cell_type": "code",
   "execution_count": 47,
   "id": "b4d2c898",
   "metadata": {},
   "outputs": [
    {
     "data": {
      "image/png": "[encoded data removed]",
      "text/plain": [
       "<Figure size 1000x800 with 2 Axes>"
      ]
     },
     "metadata": {},
     "output_type": "display_data"
    }
   ],
   "source": [
    "# Set plot size \n",
    "plt.figure(figsize=(10,8))\n",
    "\n",
    "# Set first subplot\n",
    "plt.subplot(1,2,1)\n",
    "plt.imshow(test_input[0])\n",
    "\n",
    "# Set second subplot\n",
    "plt.subplot(1,2,2)\n",
    "plt.imshow(test_val[0])\n",
    "\n",
    "# Renders cleanly\n",
    "plt.show()"
   ]
  },
  {
   "cell_type": "code",
   "execution_count": 46,
   "id": "e01f1d88",
   "metadata": {},
   "outputs": [],
   "source": [
    "siamese_model.save('siamesemodelv2.h5')"
   ]
  },
  {
   "cell_type": "code",
   "execution_count": 48,
   "id": "9ef32ddf",
   "metadata": {},
   "outputs": [
    {
     "data": {
      "text/plain": [
       "__main__.L1Dist"
      ]
     },
     "execution_count": 48,
     "metadata": {},
     "output_type": "execute_result"
    }
   ],
   "source": [
    "L1Dist"
   ]
  },
  {
   "cell_type": "code",
   "execution_count": 49,
   "id": "090003a9",
   "metadata": {},
   "outputs": [
    {
     "name": "stdout",
     "output_type": "stream",
     "text": [
      "WARNING:tensorflow:No training configuration found in the save file, so the model was *not* compiled. Compile it manually.\n"
     ]
    }
   ],
   "source": [
    "siamese_model = tf.keras.models.load_model('siamesemodelv2.h5', \n",
    "                                   custom_objects={'L1Dist':L1Dist, 'BinaryCrossentropy':tf.losses.BinaryCrossentropy})"
   ]
  },
  {
   "cell_type": "code",
   "execution_count": 50,
   "id": "a08f2f54",
   "metadata": {},
   "outputs": [
    {
     "data": {
      "text/plain": [
       "array([[9.9982315e-01],\n",
       "       [2.2500037e-08],\n",
       "       [3.9466153e-07],\n",
       "       [9.9998772e-01],\n",
       "       [5.5817835e-09],\n",
       "       [9.9830544e-01],\n",
       "       [3.6202382e-06]], dtype=float32)"
      ]
     },
     "execution_count": 50,
     "metadata": {},
     "output_type": "execute_result"
    }
   ],
   "source": [
    "\n",
    "# Make predictions with reloaded model\n",
    "siamese_model.predict([test_input, test_val])"
   ]
  },
  {
   "cell_type": "code",
   "execution_count": 44,
   "id": "f57a1e01",
   "metadata": {},
   "outputs": [
    {
     "name": "stdout",
     "output_type": "stream",
     "text": [
      "Model: \"SiameseNetwork\"\n",
      "__________________________________________________________________________________________________\n",
      "Layer (type)                    Output Shape         Param #     Connected to                     \n",
      "==================================================================================================\n",
      "input_img (InputLayer)          [(None, 100, 100, 3) 0                                            \n",
      "__________________________________________________________________________________________________\n",
      "validation_img (InputLayer)     [(None, 100, 100, 3) 0                                            \n",
      "__________________________________________________________________________________________________\n",
      "embedding (Functional)          (None, 4096)         303987904   input_img[0][0]                  \n",
      "                                                                 validation_img[0][0]             \n",
      "__________________________________________________________________________________________________\n",
      "l1_dist_2 (L1Dist)              (None, 4096)         0           embedding[0][0]                  \n",
      "                                                                 embedding[1][0]                  \n",
      "__________________________________________________________________________________________________\n",
      "dense_1 (Dense)                 (None, 1)            4097        l1_dist_2[0][0]                  \n",
      "==================================================================================================\n",
      "Total params: 303,992,001\n",
      "Trainable params: 303,992,001\n",
      "Non-trainable params: 0\n",
      "__________________________________________________________________________________________________\n"
     ]
    }
   ],
   "source": [
    "# View model summary\n",
    "siamese_model.summary()"
   ]
  },
  {
   "cell_type": "code",
   "execution_count": null,
   "id": "c28f7ad6",
   "metadata": {},
   "outputs": [],
   "source": []
  }
 ],
 "metadata": {
  "kernelspec": {
   "display_name": "Python 3 (ipykernel)",
   "language": "python",
   "name": "python3"
  },
  "language_info": {
   "codemirror_mode": {
    "name": "ipython",
    "version": 3
   },
   "file_extension": ".py",
   "mimetype": "text/x-python",
   "name": "python",
   "nbconvert_exporter": "python",
   "pygments_lexer": "ipython3",
   "version": "3.8.15"
  }
 },
 "nbformat": 4,
 "nbformat_minor": 5
}
